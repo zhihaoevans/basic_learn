{
 "cells": [
  {
   "cell_type": "code",
   "execution_count": 1,
   "id": "580f02e8-9f3a-4243-b643-e2057fc64cb1",
   "metadata": {},
   "outputs": [],
   "source": [
    "import scapy\n",
    "import matplotlib"
   ]
  },
  {
   "cell_type": "code",
   "execution_count": 2,
   "id": "c0b0b48d-8005-4df9-a86b-6846d84fd8b0",
   "metadata": {},
   "outputs": [
    {
     "ename": "NameError",
     "evalue": "name 'arping' is not defined",
     "output_type": "error",
     "traceback": [
      "\u001b[31m---------------------------------------------------------------------------\u001b[39m",
      "\u001b[31mNameError\u001b[39m                                 Traceback (most recent call last)",
      "\u001b[36mCell\u001b[39m\u001b[36m \u001b[39m\u001b[32mIn[2]\u001b[39m\u001b[32m, line 1\u001b[39m\n\u001b[32m----> \u001b[39m\u001b[32m1\u001b[39m \u001b[43marping\u001b[49m(\u001b[33m\"\u001b[39m\u001b[33m192.168.46.0/24\u001b[39m\u001b[33m\"\u001b[39m)\n",
      "\u001b[31mNameError\u001b[39m: name 'arping' is not defined"
     ]
    }
   ],
   "source": [
    "arping(\"192.168.46.0/24\")"
   ]
  },
  {
   "cell_type": "code",
   "execution_count": 3,
   "id": "e1ee9eff-47b8-4b6d-95b8-6f5059c8aeca",
   "metadata": {},
   "outputs": [],
   "source": [
    "from scapy import *"
   ]
  },
  {
   "cell_type": "code",
   "execution_count": 4,
   "id": "6311ea32-995d-49b6-939f-8a0ecc8e50fd",
   "metadata": {},
   "outputs": [],
   "source": [
    "from matplotlib import *"
   ]
  },
  {
   "cell_type": "code",
   "execution_count": 5,
   "id": "d71a93a2-ed5e-4cd5-9873-3c975c5e538a",
   "metadata": {},
   "outputs": [
    {
     "ename": "NameError",
     "evalue": "name 'arping' is not defined",
     "output_type": "error",
     "traceback": [
      "\u001b[31m---------------------------------------------------------------------------\u001b[39m",
      "\u001b[31mNameError\u001b[39m                                 Traceback (most recent call last)",
      "\u001b[36mCell\u001b[39m\u001b[36m \u001b[39m\u001b[32mIn[5]\u001b[39m\u001b[32m, line 1\u001b[39m\n\u001b[32m----> \u001b[39m\u001b[32m1\u001b[39m \u001b[43marping\u001b[49m(\u001b[33m\"\u001b[39m\u001b[33m192.168.46.0/24\u001b[39m\u001b[33m\"\u001b[39m)\n",
      "\u001b[31mNameError\u001b[39m: name 'arping' is not defined"
     ]
    }
   ],
   "source": [
    "arping(\"192.168.46.0/24\")"
   ]
  },
  {
   "cell_type": "code",
   "execution_count": 6,
   "id": "a56fba02-191c-43da-87b3-b9d7753f6692",
   "metadata": {},
   "outputs": [
    {
     "data": {
      "text/plain": [
       "module"
      ]
     },
     "execution_count": 6,
     "metadata": {},
     "output_type": "execute_result"
    }
   ],
   "source": [
    "type(scapy)"
   ]
  },
  {
   "cell_type": "code",
   "execution_count": 7,
   "id": "a9e0e3c3-290c-4885-b523-8f8d3b83d61d",
   "metadata": {},
   "outputs": [
    {
     "name": "stdout",
     "output_type": "stream",
     "text": [
      "zsh:1: number expected\n"
     ]
    }
   ],
   "source": [
    "ls(scapy)"
   ]
  },
  {
   "cell_type": "code",
   "execution_count": 8,
   "id": "4d355c29-98d1-4ddf-a336-eb38545f9af7",
   "metadata": {},
   "outputs": [
    {
     "data": {
      "text/plain": [
       "['VERSION',\n",
       " 'VERSION_MAIN',\n",
       " '_SCAPY_PKG_DIR',\n",
       " '__all__',\n",
       " '__builtins__',\n",
       " '__cached__',\n",
       " '__doc__',\n",
       " '__file__',\n",
       " '__loader__',\n",
       " '__name__',\n",
       " '__package__',\n",
       " '__path__',\n",
       " '__spec__',\n",
       " '__version__',\n",
       " '_parse_tag',\n",
       " '_tmp',\n",
       " '_version',\n",
       " '_version_from_git_archive',\n",
       " '_version_from_git_describe',\n",
       " 'datetime',\n",
       " 'os',\n",
       " 're',\n",
       " 'subprocess']"
      ]
     },
     "execution_count": 8,
     "metadata": {},
     "output_type": "execute_result"
    }
   ],
   "source": [
    "dir(scapy)"
   ]
  },
  {
   "cell_type": "code",
   "execution_count": 9,
   "id": "e576ecc1-79b0-4d7b-9201-0c12cd985383",
   "metadata": {},
   "outputs": [
    {
     "name": "stdout",
     "output_type": "stream",
     "text": [
      "01_basic_packet_demo.py       main.py\n",
      "02_network_scanning_demo.py   README.md\n",
      "03_packet_sniffing_demo.py    requirements.txt\n",
      "04_protocol_analysis_demo.py  tips.txt\n",
      "05_attack_simulation_demo.py  Untitled.ipynb\n",
      "06_wireless_analysis_demo.py\n"
     ]
    }
   ],
   "source": [
    "ls"
   ]
  },
  {
   "cell_type": "code",
   "execution_count": 10,
   "id": "2c69d94d-4810-4cd0-98f5-918fffc58e3c",
   "metadata": {},
   "outputs": [
    {
     "data": {
      "text/plain": [
       "Type help() for interactive help, or help(object) for help about object."
      ]
     },
     "execution_count": 10,
     "metadata": {},
     "output_type": "execute_result"
    }
   ],
   "source": [
    "help"
   ]
  },
  {
   "cell_type": "code",
   "execution_count": 11,
   "id": "5a13fe61-1b45-489d-9b12-9ecd2f7d5fe2",
   "metadata": {},
   "outputs": [
    {
     "name": "stdout",
     "output_type": "stream",
     "text": [
      "Help on package scapy:\n",
      "\n",
      "NAME\n",
      "    scapy - Scapy: create, send, sniff, dissect and manipulate network packets.\n",
      "\n",
      "DESCRIPTION\n",
      "    Usable either from an interactive console or as a Python library.\n",
      "    https://scapy.net\n",
      "\n",
      "PACKAGE CONTENTS\n",
      "    __main__\n",
      "    all\n",
      "    ansmachine\n",
      "    arch (package)\n",
      "    as_resolvers\n",
      "    asn1 (package)\n",
      "    asn1fields\n",
      "    asn1packet\n",
      "    automaton\n",
      "    autorun\n",
      "    base_classes\n",
      "    compat\n",
      "    config\n",
      "    consts\n",
      "    contrib (package)\n",
      "    dadict\n",
      "    data\n",
      "    error\n",
      "    fields\n",
      "    interfaces\n",
      "    layers (package)\n",
      "    libs (package)\n",
      "    main\n",
      "    modules (package)\n",
      "    packet\n",
      "    pipetool\n",
      "    plist\n",
      "    pton_ntop\n",
      "    route\n",
      "    route6\n",
      "    scapypipes\n",
      "    sendrecv\n",
      "    sessions\n",
      "    supersocket\n",
      "    themes\n",
      "    tools (package)\n",
      "    utils\n",
      "    utils6\n",
      "    volatile\n",
      "\n",
      "DATA\n",
      "    VERSION = '2.6.1'\n",
      "    __all__ = ['VERSION', '__version__']\n",
      "\n",
      "VERSION\n",
      "    2.6.1\n",
      "\n",
      "FILE\n",
      "    /opt/miniconda3/lib/python3.13/site-packages/scapy/__init__.py\n",
      "\n",
      "\n"
     ]
    }
   ],
   "source": [
    "help(scapy)"
   ]
  },
  {
   "cell_type": "code",
   "execution_count": 12,
   "id": "b7488238-be76-4ea5-a638-70fe1e7f6312",
   "metadata": {},
   "outputs": [],
   "source": [
    "from scapy.all import *"
   ]
  },
  {
   "cell_type": "code",
   "execution_count": 13,
   "id": "85eac92a-233e-4545-ae8d-e14decffec8d",
   "metadata": {},
   "outputs": [],
   "source": [
    "import argparse"
   ]
  },
  {
   "cell_type": "code",
   "execution_count": 14,
   "id": "d4619e78-48bc-49df-8102-3b45544a41f0",
   "metadata": {},
   "outputs": [
    {
     "name": "stdout",
     "output_type": "stream",
     "text": [
      "Begin emission\n",
      "\n",
      "Finished sending 256 packets\n",
      "\n",
      "Received 0 packets, got 0 answers, remaining 256 packets\n",
      "src  manuf  psrc\n"
     ]
    },
    {
     "data": {
      "text/plain": [
       "(<ARPing: TCP:0 UDP:0 ICMP:0 Other:0>,\n",
       " <Unanswered: TCP:0 UDP:0 ICMP:0 Other:256>)"
      ]
     },
     "execution_count": 14,
     "metadata": {},
     "output_type": "execute_result"
    }
   ],
   "source": [
    "arping(\"192.168.46.0/24\")"
   ]
  },
  {
   "cell_type": "code",
   "execution_count": 15,
   "id": "c29c9ecb-74d4-45a4-b0cf-8a7bf04c87b2",
   "metadata": {},
   "outputs": [
    {
     "ename": "SyntaxError",
     "evalue": "invalid syntax (179535076.py, line 1)",
     "output_type": "error",
     "traceback": [
      "  \u001b[36mCell\u001b[39m\u001b[36m \u001b[39m\u001b[32mIn[15]\u001b[39m\u001b[32m, line 1\u001b[39m\n\u001b[31m    \u001b[39m\u001b[31mwhich pip\u001b[39m\n          ^\n\u001b[31mSyntaxError\u001b[39m\u001b[31m:\u001b[39m invalid syntax\n"
     ]
    }
   ],
   "source": [
    "which pip"
   ]
  },
  {
   "cell_type": "code",
   "execution_count": 16,
   "id": "6d962afe-5804-4457-81b9-899df9e2bb1e",
   "metadata": {},
   "outputs": [
    {
     "name": "stdout",
     "output_type": "stream",
     "text": [
      "/opt/miniconda3/bin/pip\n"
     ]
    }
   ],
   "source": [
    "!which pip\n"
   ]
  },
  {
   "cell_type": "code",
   "execution_count": 17,
   "id": "b99db9dd-f98f-4daa-91ef-a86dfda17e64",
   "metadata": {},
   "outputs": [
    {
     "name": "stdout",
     "output_type": "stream",
     "text": [
      "Begin emission\n",
      "*\n",
      "Finished sending 15 packets\n",
      "******\n",
      "Received 7 packets, got 7 answers, remaining 8 packets\n",
      "   217.25.178.5:tcp80 \n",
      "1  192.168.3.1     11 \n",
      "3  100.64.0.1      11 \n",
      "5  171.208.199.177 11 \n",
      "10 218.30.54.203   11 \n",
      "13 217.25.179.112  11 \n",
      "14 217.25.179.112  11 \n",
      "15 217.25.178.5    SA \n"
     ]
    }
   ],
   "source": [
    "ans, unans = traceroute('www.secdev.org', maxttl=15)"
   ]
  },
  {
   "cell_type": "code",
   "execution_count": 20,
   "id": "0d4db643-daf1-4fe6-ac22-96fe61ea2255",
   "metadata": {},
   "outputs": [
    {
     "name": "stderr",
     "output_type": "stream",
     "text": [
      "ERROR: Cannot import the geolite2 CITY database.\n",
      "Download it from http://dev.maxmind.com/geoip/geoip2/geolite2/ then set its path to conf.geoip_city\n"
     ]
    },
    {
     "data": {
      "text/plain": [
       "[]"
      ]
     },
     "execution_count": 20,
     "metadata": {},
     "output_type": "execute_result"
    }
   ],
   "source": [
    "ans.world_trace()"
   ]
  },
  {
   "cell_type": "code",
   "execution_count": 24,
   "id": "eee96d43-ab8c-4e92-bf9d-fb439afbe5c0",
   "metadata": {},
   "outputs": [],
   "source": [
    "conf.geoip_city = \"/Users/xzh/.local/share/GeoIP/GeoLite2-City.mmdb\""
   ]
  },
  {
   "cell_type": "code",
   "execution_count": 25,
   "id": "2ada14a4-28c5-49aa-be1f-ec388cd34922",
   "metadata": {},
   "outputs": [
    {
     "data": {
      "text/plain": [
       "[<matplotlib.collections.LineCollection at 0x1178d52b0>,\n",
       " [<matplotlib.lines.Line2D at 0x1178d3890>],\n",
       " [<matplotlib.lines.Line2D at 0x1178d39d0>],\n",
       " [<matplotlib.lines.Line2D at 0x1178d3b10>],\n",
       " [<matplotlib.lines.Line2D at 0x1178d3c50>]]"
      ]
     },
     "execution_count": 25,
     "metadata": {},
     "output_type": "execute_result"
    },
    {
     "data": {
      "text/plain": [
       "<Figure size 640x480 with 0 Axes>"
      ]
     },
     "metadata": {},
     "output_type": "display_data"
    }
   ],
   "source": [
    "ans.world_trace()"
   ]
  },
  {
   "cell_type": "code",
   "execution_count": null,
   "id": "cadb066a-2779-4cc4-a97f-30a8d26c4ec8",
   "metadata": {},
   "outputs": [],
   "source": []
  }
 ],
 "metadata": {
  "kernelspec": {
   "display_name": "Python 3 (ipykernel)",
   "language": "python",
   "name": "python3"
  },
  "language_info": {
   "codemirror_mode": {
    "name": "ipython",
    "version": 3
   },
   "file_extension": ".py",
   "mimetype": "text/x-python",
   "name": "python",
   "nbconvert_exporter": "python",
   "pygments_lexer": "ipython3",
   "version": "3.13.2"
  }
 },
 "nbformat": 4,
 "nbformat_minor": 5
}
