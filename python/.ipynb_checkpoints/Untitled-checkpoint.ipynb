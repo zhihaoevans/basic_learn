{
 "cells": [
  {
   "cell_type": "code",
   "execution_count": 21,
   "id": "fe37339e-bb84-4cb8-8634-38405b1d9c2a",
   "metadata": {},
   "outputs": [],
   "source": [
    "l1 = [i*1000 for i in range(1,11)]"
   ]
  },
  {
   "cell_type": "code",
   "execution_count": 5,
   "id": "1c4796fe-23ef-4f0a-b8ef-7261842cc30a",
   "metadata": {},
   "outputs": [
    {
     "data": {
      "text/plain": [
       "[2, 4, 6, 8, 10, 12, 14, 16, 18, 20]"
      ]
     },
     "execution_count": 5,
     "metadata": {},
     "output_type": "execute_result"
    }
   ],
   "source": [
    "l1"
   ]
  },
  {
   "cell_type": "code",
   "execution_count": 9,
   "id": "480d805f-9f76-45e3-a0f2-d3c46e652a35",
   "metadata": {},
   "outputs": [
    {
     "data": {
      "text/plain": [
       "4367772936"
      ]
     },
     "execution_count": 9,
     "metadata": {},
     "output_type": "execute_result"
    }
   ],
   "source": [
    "id(l1[2])"
   ]
  },
  {
   "cell_type": "code",
   "execution_count": 10,
   "id": "1d320ad8-bc30-41c0-a11f-3261fafd113c",
   "metadata": {},
   "outputs": [],
   "source": [
    "l2 = l1"
   ]
  },
  {
   "cell_type": "code",
   "execution_count": 11,
   "id": "958cbc74-5c52-4aec-ac3c-8dcadf96b64d",
   "metadata": {},
   "outputs": [
    {
     "data": {
      "text/plain": [
       "[2, 4, 6, 8, 10, 12, 14, 16, 18, 20]"
      ]
     },
     "execution_count": 11,
     "metadata": {},
     "output_type": "execute_result"
    }
   ],
   "source": [
    "l2"
   ]
  },
  {
   "cell_type": "code",
   "execution_count": 12,
   "id": "18418e3e-fa0d-4096-a7a2-ab4f80789189",
   "metadata": {},
   "outputs": [
    {
     "data": {
      "text/plain": [
       "4367772936"
      ]
     },
     "execution_count": 12,
     "metadata": {},
     "output_type": "execute_result"
    }
   ],
   "source": [
    "id(l2[2])"
   ]
  },
  {
   "cell_type": "code",
   "execution_count": 13,
   "id": "ee4d161a-3106-4cbb-ae9d-3eaf97d188c6",
   "metadata": {},
   "outputs": [
    {
     "data": {
      "text/plain": [
       "True"
      ]
     },
     "execution_count": 13,
     "metadata": {},
     "output_type": "execute_result"
    }
   ],
   "source": [
    "l2 is l1"
   ]
  },
  {
   "cell_type": "code",
   "execution_count": 14,
   "id": "e8468f76-23d2-4745-8673-3a9982450f9d",
   "metadata": {},
   "outputs": [
    {
     "data": {
      "text/plain": [
       "True"
      ]
     },
     "execution_count": 14,
     "metadata": {},
     "output_type": "execute_result"
    }
   ],
   "source": [
    "l2 == l1"
   ]
  },
  {
   "cell_type": "code",
   "execution_count": 22,
   "id": "f49b9c46-a898-4886-a109-beea98b8dd57",
   "metadata": {},
   "outputs": [],
   "source": [
    "l2 = l1[:]"
   ]
  },
  {
   "cell_type": "code",
   "execution_count": 16,
   "id": "72d88cfc-73c2-4ce3-a31c-8ff9fbb6baf9",
   "metadata": {},
   "outputs": [
    {
     "data": {
      "text/plain": [
       "True"
      ]
     },
     "execution_count": 16,
     "metadata": {},
     "output_type": "execute_result"
    }
   ],
   "source": [
    "l2 == l1"
   ]
  },
  {
   "cell_type": "code",
   "execution_count": 23,
   "id": "f6e104cb-049a-45f7-8a02-6253e5332078",
   "metadata": {},
   "outputs": [
    {
     "data": {
      "text/plain": [
       "False"
      ]
     },
     "execution_count": 23,
     "metadata": {},
     "output_type": "execute_result"
    }
   ],
   "source": [
    "l2 is l1"
   ]
  },
  {
   "cell_type": "code",
   "execution_count": 24,
   "id": "0b268546-1f6c-4af9-838a-507513be1da5",
   "metadata": {},
   "outputs": [
    {
     "data": {
      "text/plain": [
       "4572655152"
      ]
     },
     "execution_count": 24,
     "metadata": {},
     "output_type": "execute_result"
    }
   ],
   "source": [
    " id(l2[2])"
   ]
  },
  {
   "cell_type": "code",
   "execution_count": 25,
   "id": "730dfb07-c061-4ab6-acd2-6b46641ea121",
   "metadata": {},
   "outputs": [
    {
     "data": {
      "text/plain": [
       "4572655152"
      ]
     },
     "execution_count": 25,
     "metadata": {},
     "output_type": "execute_result"
    }
   ],
   "source": [
    "id(l1[2])"
   ]
  },
  {
   "cell_type": "code",
   "execution_count": 29,
   "id": "c59f0486-d180-4108-bfc5-3f2ae4160a80",
   "metadata": {},
   "outputs": [
    {
     "data": {
      "text/plain": [
       "False"
      ]
     },
     "execution_count": 29,
     "metadata": {},
     "output_type": "execute_result"
    }
   ],
   "source": [
    "l2[2] is l1[2]"
   ]
  },
  {
   "cell_type": "code",
   "execution_count": 28,
   "id": "8defb2bb-385d-4b53-a28b-5448ee22ba2b",
   "metadata": {},
   "outputs": [],
   "source": [
    "l1[2] = 100"
   ]
  },
  {
   "cell_type": "code",
   "execution_count": 30,
   "id": "1be26a12-8c1d-4101-829a-92477b8801ae",
   "metadata": {},
   "outputs": [],
   "source": [
    "l2 = l1"
   ]
  },
  {
   "cell_type": "code",
   "execution_count": 34,
   "id": "5d29bc09-d9d1-44c8-9a7c-bb7b3cce85fb",
   "metadata": {},
   "outputs": [
    {
     "data": {
      "text/plain": [
       "1000"
      ]
     },
     "execution_count": 34,
     "metadata": {},
     "output_type": "execute_result"
    }
   ],
   "source": [
    "l1[2]"
   ]
  },
  {
   "cell_type": "code",
   "execution_count": 32,
   "id": "c2e1a62d-4f46-4b90-a0ad-1eac919d2c18",
   "metadata": {},
   "outputs": [
    {
     "data": {
      "text/plain": [
       "100"
      ]
     },
     "execution_count": 32,
     "metadata": {},
     "output_type": "execute_result"
    }
   ],
   "source": [
    "l2[2]"
   ]
  },
  {
   "cell_type": "code",
   "execution_count": 33,
   "id": "343658c7-63f0-4592-b0d0-6579a311de5a",
   "metadata": {},
   "outputs": [],
   "source": [
    "l2[2] = 1000"
   ]
  },
  {
   "cell_type": "code",
   "execution_count": 35,
   "id": "5b561420-7143-4d3d-99a8-4d8a0bc541fc",
   "metadata": {},
   "outputs": [],
   "source": [
    "l2 = l1[:]"
   ]
  },
  {
   "cell_type": "code",
   "execution_count": 36,
   "id": "9a01a499-49a7-44a8-9f8a-d9857a90ff6d",
   "metadata": {},
   "outputs": [
    {
     "data": {
      "text/plain": [
       "1000"
      ]
     },
     "execution_count": 36,
     "metadata": {},
     "output_type": "execute_result"
    }
   ],
   "source": [
    "l1[2]"
   ]
  },
  {
   "cell_type": "code",
   "execution_count": 37,
   "id": "4c87d0a4-3ef4-4411-8f92-1a434e767b50",
   "metadata": {},
   "outputs": [
    {
     "data": {
      "text/plain": [
       "1000"
      ]
     },
     "execution_count": 37,
     "metadata": {},
     "output_type": "execute_result"
    }
   ],
   "source": [
    "l2[2]"
   ]
  },
  {
   "cell_type": "code",
   "execution_count": 38,
   "id": "5881c9af-6735-4fc4-9a39-7b89ac3f0f75",
   "metadata": {},
   "outputs": [],
   "source": [
    "l2[2] = 666"
   ]
  },
  {
   "cell_type": "code",
   "execution_count": 39,
   "id": "142b2a76-0cf8-4069-a6be-2486985b7247",
   "metadata": {},
   "outputs": [
    {
     "data": {
      "text/plain": [
       "1000"
      ]
     },
     "execution_count": 39,
     "metadata": {},
     "output_type": "execute_result"
    }
   ],
   "source": [
    "l1[2]"
   ]
  },
  {
   "cell_type": "code",
   "execution_count": null,
   "id": "11b4e5ba-7470-4a46-a9bc-70a85f04f18a",
   "metadata": {},
   "outputs": [],
   "source": [
    "import requests\n",
    "\n",
    "# GET请求\n",
    "resp = requests.get('https://www.baidu.com')\n",
    "print(resp.status_code)\n",
    "print(resp.json())"
   ]
  },
  {
   "cell_type": "code",
   "execution_count": null,
   "id": "dcfdbc71-bbb7-4880-859a-99a21431ce2d",
   "metadata": {},
   "outputs": [],
   "source": []
  }
 ],
 "metadata": {
  "kernelspec": {
   "display_name": "Python 3 (ipykernel)",
   "language": "python",
   "name": "python3"
  },
  "language_info": {
   "codemirror_mode": {
    "name": "ipython",
    "version": 3
   },
   "file_extension": ".py",
   "mimetype": "text/x-python",
   "name": "python",
   "nbconvert_exporter": "python",
   "pygments_lexer": "ipython3",
   "version": "3.11.7"
  }
 },
 "nbformat": 4,
 "nbformat_minor": 5
}
